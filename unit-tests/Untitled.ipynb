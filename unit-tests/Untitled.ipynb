{
 "cells": [
  {
   "cell_type": "code",
   "execution_count": 72,
   "metadata": {
    "collapsed": true
   },
   "outputs": [],
   "source": [
    "# Enkf\n",
    "import numpy as np"
   ]
  },
  {
   "cell_type": "code",
   "execution_count": 98,
   "metadata": {
    "collapsed": true
   },
   "outputs": [],
   "source": [
    "N = 10000000\n",
    "X = np.random.normal(size=[4,N])"
   ]
  },
  {
   "cell_type": "code",
   "execution_count": 95,
   "metadata": {
    "collapsed": false
   },
   "outputs": [],
   "source": [
    "d = 3;\n",
    "Gamma = 5.0\n",
    "\n",
    "D = np.sqrt(Gamma)*np.random.normal(size=[1,N])+X[0,:]\n",
    "#The D matrix is h(x, epsilon)\n",
    "\n",
    "\n",
    "Pt = np.eye(4)\n"
   ]
  },
  {
   "cell_type": "code",
   "execution_count": 96,
   "metadata": {
    "collapsed": true
   },
   "outputs": [],
   "source": [
    "H = np.matrix([1.0,0.0,0.0,0.0])"
   ]
  },
  {
   "cell_type": "code",
   "execution_count": 100,
   "metadata": {
    "collapsed": false
   },
   "outputs": [
    {
     "name": "stdout",
     "output_type": "stream",
     "text": [
      "[[  9.99673492e-01   3.16993777e-04  -2.18692033e-04  -7.45607249e-04]\n",
      " [  3.16993777e-04   9.99220992e-01  -4.13368241e-04  -2.09649269e-05]\n",
      " [ -2.18692033e-04  -4.13368241e-04   9.99286376e-01   8.93442138e-05]\n",
      " [ -7.45607249e-04  -2.09649269e-05   8.93442138e-05   9.99754101e-01]]\n",
      "[[  1.66621316e-01]\n",
      " [  5.28351714e-05]\n",
      " [ -3.64506558e-05]\n",
      " [ -1.24274638e-04]]\n",
      "[[  1.66621316e-01]\n",
      " [  5.28351714e-05]\n",
      " [ -3.64506558e-05]\n",
      " [ -1.24274638e-04]]\n",
      "[[ 6.]]\n",
      "[[ 0.16666667]\n",
      " [ 0.        ]\n",
      " [ 0.        ]\n",
      " [ 0.        ]]\n",
      "[[ 5.99718977]]\n",
      "[[  6.81560528e-05]\n",
      " [  2.24557384e-04]\n",
      " [ -4.50949065e-05]\n",
      " [ -8.39622964e-05]]\n"
     ]
    }
   ],
   "source": [
    "Xp = X - np.average(X)\n",
    "Dp = D - np.average(D)\n",
    "P = 1.0/(N-1.0) * Xp.dot(Xp.T)\n",
    "\n",
    "print P\n",
    "\n",
    "K = P*H.T*np.linalg.inv(H*P*H.T + Gamma)\n",
    "print K\n",
    "\n",
    "K2 = P*H.T/(H*P*H.T + Gamma)\n",
    "print K2\n",
    "print (H*Pt*H.T + Gamma)\n",
    "K3 = Pt*H.T/(H*Pt*H.T + Gamma)\n",
    "print K3\n",
    "\n",
    "Pxd = 1.0/(N-1.0) * Xp.dot(Dp.T)\n",
    "Pdd = 1.0/(N-1.0) * Dp.dot(Dp.T)\n",
    "\n",
    "#print Pxd\n",
    "print Pdd\n",
    "\n",
    "print Pxd * np.linalg.inv(Pdd)\n",
    "\n",
    "\n",
    "\n"
   ]
  },
  {
   "cell_type": "code",
   "execution_count": null,
   "metadata": {
    "collapsed": true
   },
   "outputs": [],
   "source": []
  },
  {
   "cell_type": "code",
   "execution_count": null,
   "metadata": {
    "collapsed": true
   },
   "outputs": [],
   "source": []
  }
 ],
 "metadata": {
  "kernelspec": {
   "display_name": "Python 2",
   "language": "python",
   "name": "python2"
  },
  "language_info": {
   "codemirror_mode": {
    "name": "ipython",
    "version": 2
   },
   "file_extension": ".py",
   "mimetype": "text/x-python",
   "name": "python",
   "nbconvert_exporter": "python",
   "pygments_lexer": "ipython2",
   "version": "2.7.9"
  }
 },
 "nbformat": 4,
 "nbformat_minor": 0
}
